{
 "cells": [
  {
   "cell_type": "markdown",
   "metadata": {
    "id": "yf33EzRrCBdj"
   },
   "source": [
    "# Глубокая Q-сеть, вариант многослойного перцептрона 5 баллов\n",
    "\n",
    "#### дедлайн задания: 24 ноября 23:59\n",
    "\n",
    "В данной домашней работе требуется реализовать DQN &mdash; приближённый алгоритм Q-обучения c механизмом _experience_ _replay_ и целевой сетью (_target network_) &mdash; и пронаблюдать, лучше ли подход DQN работает по сравнению с рассмотренными ранее в каком-либо аспекте.\n",
    "\n",
    "Исходная статья:\n",
    "https://arxiv.org/pdf/1312.5602.pdf\n",
    "\n",
    "Конспект теории по глубокому Q-обучению:\n",
    "https://arxiv.org/pdf/2201.09746.pdf (главы 4.1 и 4.2)"
   ]
  },
  {
   "cell_type": "markdown",
   "metadata": {
    "id": "ukAbFVtlCBdm"
   },
   "source": [
    "# Работа выполнена: Богданов Александр Иванович, Б05-003."
   ]
  },
  {
   "cell_type": "markdown",
   "metadata": {
    "id": "k0Fj8fgSCBdn"
   },
   "source": [
    "В данном задании требуется обучить агента в среде CartPole. По идее, процесс обучения должен занять несколько десятков минут."
   ]
  },
  {
   "cell_type": "code",
   "execution_count": 26,
   "metadata": {
    "ExecuteTime": {
     "end_time": "2023-11-28T13:01:07.862413Z",
     "start_time": "2023-11-28T13:01:07.858338Z"
    },
    "id": "oN_pO7HsCBdn"
   },
   "outputs": [],
   "source": [
    "import gym\n",
    "from gym.wrappers import RecordVideo\n",
    "import random\n",
    "import numpy as np\n",
    "import matplotlib.pyplot as plt\n",
    "import torch\n",
    "import torch.nn as nn\n",
    "import utils\n",
    "from IPython.display import HTML\n",
    "import os\n",
    "from base64 import b64encode\n",
    "from tqdm import trange\n",
    "from IPython.display import clear_output\n",
    "\n",
    "import warnings\n",
    "warnings.filterwarnings(\"ignore\")"
   ]
  },
  {
   "cell_type": "markdown",
   "metadata": {
    "id": "2T8jD7zDCBdp"
   },
   "source": [
    "### CartPole, снова"
   ]
  },
  {
   "cell_type": "code",
   "execution_count": 2,
   "metadata": {
    "ExecuteTime": {
     "end_time": "2023-11-28T13:01:08.726366Z",
     "start_time": "2023-11-28T13:01:08.721598Z"
    },
    "id": "iI86sYwECBdp"
   },
   "outputs": [],
   "source": [
    "ENV_NAME = \"CartPole-v1\"\n",
    "\n",
    "def make_env(seed=None):\n",
    "    # CartPole обёрнут в time limit wrapper по умолчанию\n",
    "    env = gym.make(ENV_NAME).unwrapped\n",
    "    if seed is not None:\n",
    "        env.seed(seed)\n",
    "    return env"
   ]
  },
  {
   "cell_type": "code",
   "execution_count": 3,
   "metadata": {
    "ExecuteTime": {
     "end_time": "2023-11-28T13:01:09.197838Z",
     "start_time": "2023-11-28T13:01:09.187652Z"
    },
    "colab": {
     "base_uri": "https://localhost:8080/"
    },
    "id": "DA_e2PaQCBdq",
    "outputId": "3ece44c4-6972-4806-d526-2eb427e46bea"
   },
   "outputs": [
    {
     "data": {
      "text/plain": [
       "array([ 0.04684781,  0.01033779, -0.002789  , -0.00292469], dtype=float32)"
      ]
     },
     "execution_count": 3,
     "metadata": {},
     "output_type": "execute_result"
    }
   ],
   "source": [
    "env = make_env()\n",
    "state = env.reset()\n",
    "state"
   ]
  },
  {
   "cell_type": "code",
   "execution_count": 4,
   "metadata": {
    "ExecuteTime": {
     "end_time": "2023-11-28T13:01:09.808262Z",
     "start_time": "2023-11-28T13:01:09.800957Z"
    },
    "colab": {
     "base_uri": "https://localhost:8080/"
    },
    "id": "k3Fj9aNDCBdr",
    "outputId": "adc49846-86cc-4a47-f4bc-54dce7ff90dd"
   },
   "outputs": [
    {
     "data": {
      "text/plain": [
       "(4,)"
      ]
     },
     "execution_count": 4,
     "metadata": {},
     "output_type": "execute_result"
    }
   ],
   "source": [
    "state_shape = env.observation_space.shape\n",
    "state_shape"
   ]
  },
  {
   "cell_type": "code",
   "execution_count": 5,
   "metadata": {
    "ExecuteTime": {
     "end_time": "2023-11-28T13:01:10.329999Z",
     "start_time": "2023-11-28T13:01:10.324319Z"
    },
    "colab": {
     "base_uri": "https://localhost:8080/"
    },
    "id": "Bksd-CXmCBdr",
    "outputId": "de22913b-8905-4d21-8f47-b1d242dd3245"
   },
   "outputs": [
    {
     "data": {
      "text/plain": [
       "2"
      ]
     },
     "execution_count": 5,
     "metadata": {},
     "output_type": "execute_result"
    }
   ],
   "source": [
    "n_actions = env.action_space.n\n",
    "n_actions"
   ]
  },
  {
   "cell_type": "markdown",
   "metadata": {
    "id": "otmp1Z2XCBds"
   },
   "source": [
    "# Приближённое Q-обучение: построение сети\n",
    "\n",
    "Теперь требуется построить нейронную сеть, способную отображать наблюдения в Q-ценности состояния. Так как происходит работа с предобработанными признаками (положения тележки, углы и скорости), то не требуется сложная нейронная сеть пока. Фактически, нужно построить нейронную сеть с архитектурой, обозначенной снизу:\n",
    "\n",
    "<img src=https://raw.githubusercontent.com/yandexdataschool/Practical_RL/master/yet_another_week/_resource/qlearning_scheme.png width=640>\n",
    "\n",
    "В идеале рекомендуется начать с небольших 1-2 скрытых слоёв с < 200 нейронов и затем увеличить размер сети, если агент не может получить целевую награду. Батч-нормализация и дропаут здесь могут всё испортить. Также рекомендуется избегать использование таких нелинейностей, как функция сигмоиды и гиперболического тангенса: наблюдения агента не нормализованы, так что сигмоиды могут концентрироваться у нуля."
   ]
  },
  {
   "cell_type": "code",
   "execution_count": 6,
   "metadata": {
    "ExecuteTime": {
     "end_time": "2023-11-28T13:01:11.305908Z",
     "start_time": "2023-11-28T13:01:11.298403Z"
    },
    "colab": {
     "base_uri": "https://localhost:8080/"
    },
    "id": "ei1QvNkqCBds",
    "outputId": "504d52bf-0350-4bba-91d3-905ab61092bf"
   },
   "outputs": [
    {
     "data": {
      "text/plain": [
       "device(type='cpu')"
      ]
     },
     "execution_count": 6,
     "metadata": {},
     "output_type": "execute_result"
    }
   ],
   "source": [
    "device = torch.device(\"cuda\" if torch.cuda.is_available() else \"cpu\")\n",
    "# те, кто имеют GPU, но не хотят использовать графический вычислитель, могут раскомментировать:\n",
    "# device = torch.device('cpu')\n",
    "device"
   ]
  },
  {
   "cell_type": "code",
   "execution_count": 7,
   "metadata": {
    "ExecuteTime": {
     "end_time": "2023-11-28T13:01:37.578845Z",
     "start_time": "2023-11-28T13:01:37.567265Z"
    },
    "id": "UNw7QhvmCBdt"
   },
   "outputs": [],
   "source": [
    "class DQNAgent(nn.Module):\n",
    "    def __init__(self, state_shape, n_actions, epsilon=0):\n",
    "\n",
    "        super().__init__()\n",
    "        self.epsilon = epsilon\n",
    "        self.n_actions = n_actions\n",
    "        self.state_shape = state_shape\n",
    "        assert len(state_shape) == 1\n",
    "        state_dim = state_shape[0]\n",
    "\n",
    "        self.input = nn.Sequential(\n",
    "            nn.Linear(state_dim, 256),\n",
    "            nn.ReLU()\n",
    "        )\n",
    "        self.hidden = nn.Sequential(\n",
    "            nn.Linear(256, 256),\n",
    "            nn.ReLU()\n",
    "        )\n",
    "        self.output = nn.Linear(256, self.n_actions)\n",
    "\n",
    "\n",
    "    def forward(self, state_t):\n",
    "        \"\"\"\n",
    "        принимает наблюдение агента (тензор), возвращает qvalues (тензор)\n",
    "        :параметр state_t: батч состояний, размерность = [batch_size, *state_dim=4]\n",
    "        \"\"\"\n",
    "\n",
    "        qvalues = self.output(self.hidden(self.input(state_t)))\n",
    "\n",
    "        assert qvalues.requires_grad, \"qvalues должны быть torch tensor с возможностью дифференцирования\"\n",
    "        assert len(qvalues.shape) == 2 and qvalues.shape[0] == state_t.shape[0] and qvalues.shape[1] == n_actions\n",
    "\n",
    "        return qvalues\n",
    "\n",
    "    def get_qvalues(self, states):\n",
    "        \"\"\"\n",
    "        Как forward, только работает на numpy arrays, не на тензорах\n",
    "        \"\"\"\n",
    "        model_device = next(self.parameters()).device\n",
    "        states = torch.tensor(states, device=model_device, dtype=torch.float32)\n",
    "        qvalues = self.forward(states)\n",
    "        return qvalues.data.cpu().numpy()\n",
    "\n",
    "    def sample_actions(self, qvalues):\n",
    "        \"\"\"Выбрать действия для данных qvalues. Использует эпсилон-жадную стратегию исследования среды.\"\"\"\n",
    "        epsilon = self.epsilon\n",
    "        batch_size, n_actions = qvalues.shape\n",
    "\n",
    "        random_actions = np.random.choice(n_actions, size=batch_size)\n",
    "        best_actions = qvalues.argmax(axis=-1)\n",
    "\n",
    "        should_explore = np.random.choice(\n",
    "            [0, 1], batch_size, p=[1-epsilon, epsilon])\n",
    "        return np.where(should_explore, random_actions, best_actions)"
   ]
  },
  {
   "cell_type": "code",
   "execution_count": 8,
   "metadata": {
    "ExecuteTime": {
     "end_time": "2023-11-28T13:01:37.849256Z",
     "start_time": "2023-11-28T13:01:37.839198Z"
    },
    "id": "7utzjl4yCBdu"
   },
   "outputs": [],
   "source": [
    "agent = DQNAgent(state_shape, n_actions, epsilon=0.5).to(device)"
   ]
  },
  {
   "cell_type": "markdown",
   "metadata": {
    "id": "mT6Fh9O-CBdv"
   },
   "source": [
    "Теперь давайте проверим нашего агента на предмет наличия ошибок."
   ]
  },
  {
   "cell_type": "code",
   "execution_count": 9,
   "metadata": {
    "ExecuteTime": {
     "end_time": "2023-11-28T13:01:38.180089Z",
     "start_time": "2023-11-28T13:01:38.173833Z"
    },
    "id": "slFtca5_CBdv"
   },
   "outputs": [],
   "source": [
    "def evaluate(env, agent, n_games=1, greedy=False, t_max=10000):\n",
    "    \"\"\"Играет qvalues полных эпизодов. Если greedy=True, то действия берутся из детерминированной\n",
    "    стратегии как argmax(qvalues). Возвращает среднюю награду.\"\"\"\n",
    "    rewards = []\n",
    "    for _ in range(n_games):\n",
    "        s = env.reset()\n",
    "        reward = 0\n",
    "        for _ in range(t_max):\n",
    "            qvalues = agent.get_qvalues([s])\n",
    "            action = (\n",
    "                qvalues.argmax(axis=-1)[0]\n",
    "                if greedy\n",
    "                else agent.sample_actions(qvalues)[0]\n",
    "            )\n",
    "            s, r, done, info, _ = env.step(action)\n",
    "            reward += r\n",
    "            if done:\n",
    "                break\n",
    "\n",
    "        rewards.append(reward)\n",
    "    env.close()\n",
    "    return np.mean(rewards)"
   ]
  },
  {
   "cell_type": "code",
   "execution_count": 10,
   "metadata": {
    "ExecuteTime": {
     "end_time": "2023-11-28T13:01:38.399075Z",
     "start_time": "2023-11-28T13:01:38.360988Z"
    },
    "colab": {
     "base_uri": "https://localhost:8080/"
    },
    "id": "nVSYxq5oCBdw",
    "outputId": "5813ded8-6743-4129-97b3-b471d08510a3"
   },
   "outputs": [
    {
     "data": {
      "text/plain": [
       "9.0"
      ]
     },
     "execution_count": 10,
     "metadata": {},
     "output_type": "execute_result"
    }
   ],
   "source": [
    "evaluate(env, agent, n_games=1)"
   ]
  },
  {
   "cell_type": "markdown",
   "metadata": {
    "id": "ZAAMjoxeCBdx"
   },
   "source": [
    "# Experience Replay\n",
    "Сущетвует мощный метод, который можно использовать для улучшения сходимости _off-policy_ алгоритмов относительно общего количества используемых сэмплов: _Experience_ _Replay_. Смысл состоит в том, что появляется возможность настроить агента с помощью Q-обучения и EV-SARSA на кортежах `<s,a,r,s'>`, даже если они не сэмплированы из текущей политики агента. Итак, здесь требуется реализовать следующее:\n",
    "\n",
    "<img src=https://github.com/yandexdataschool/Practical_RL/raw/master/yet_another_week/_resource/exp_replay.png width=640>\n",
    "\n",
    "#### Обучение с experience replay\n",
    "1. Сыграть шаг игры, отсэмплировать `<s,a,r,s'>`.\n",
    "2. Обновить q-values на основе `<s,a,r,s'>`.\n",
    "3. Записать `<s,a,r,s'>` в буфер.\n",
    " 3. Если буфер полный, то удалить ранние данные.\n",
    "4. Сэмплировать K таких переходов из данного буфера и обновить q-values на их основе.\n",
    "\n",
    "#### Интерфейс довольно простой:\n",
    "* `exp_replay.add(obs, act, rw, next_obs, done)`  &mdash; сохраняет кортеж (s,a,r,s',done) в буфер\n",
    "* `exp_replay.sample(batch_size)` &mdash; возвращает наблюдения, действия, награды, следующие наблюдения и is_done для `batch_size` случайных сэмплов.\n",
    "* `len(exp_replay)` &mdash; возвращает количество элиментов, хранящихся в буфере на данный момент.\n",
    "\n",
    "\n",
    "Для применения такого обучения требуется, во-первых, реализация структуры памяти, которая будет работать как буфер."
   ]
  },
  {
   "cell_type": "code",
   "execution_count": 11,
   "metadata": {
    "id": "jryYjbXgCBdx"
   },
   "outputs": [],
   "source": [
    "class ReplayBuffer(object):\n",
    "    def __init__(self, size):\n",
    "        \"\"\"\n",
    "        Создаёт буфер реплеев.\n",
    "        Параметры\n",
    "        ----------\n",
    "        size: int\n",
    "            Максимальное количество хранящихся единовременно переходов. При переполнении буфера старые\n",
    "            записи удаляются.\n",
    "\n",
    "        Замечание: для данного задания можно выбрать любую структуру данных.\n",
    "              Если Вам достаточно простого решения, то можно просто хранить список кортежей (s, a, r, s')\n",
    "              в self._storage. Однако, можно найти более быстрые и/или эффективные по памяти способы\n",
    "              реализации самого хранения переходов.\n",
    "        \"\"\"\n",
    "        self._storage = []\n",
    "        self._maxsize = size\n",
    "\n",
    "    def __len__(self):\n",
    "        return len(self._storage)\n",
    "\n",
    "    def add(self, obs_t, action, reward, obs_tp1, done):\n",
    "        '''\n",
    "        Убедитесь, что _storage не превзойдёт по размерам _maxsize.\n",
    "        Убедитесь, что FIFO правило выполняется: старейшие прецеденты должны удаляться раньше всех.\n",
    "        '''\n",
    "        data = (obs_t, action, reward, obs_tp1, done)\n",
    "        storage = self._storage\n",
    "        maxsize = self._maxsize\n",
    "\n",
    "        if len(storage) == maxsize:\n",
    "            storage.pop(0)\n",
    "        storage.append(data)\n",
    "        self._storage = storage\n",
    "\n",
    "    def sample(self, batch_size):\n",
    "        \"\"\"Сэмплирование батча переходов.\n",
    "        Параметры\n",
    "        ----------\n",
    "        batch_size: int\n",
    "            Сколько переходов сэмплировать.\n",
    "        Возвращает\n",
    "        -------\n",
    "        obs_batch: np.array\n",
    "            батч наблюдений (состояний)\n",
    "        act_batch: np.array\n",
    "            батч действий, выполненных на основе obs_batch\n",
    "        rew_batch: np.array\n",
    "            награды, полученные в качестве результата выполнения act_batch\n",
    "        next_obs_batch: np.array\n",
    "            следующие наблюдения (состояния), полученные после выполнения act_batch\n",
    "        done_mask: np.array\n",
    "            done_mask[i] = 1, если выполнение act_batch[i] повлекло\n",
    "            окончание эпизода и 0 иначе.\n",
    "        \"\"\"\n",
    "        storage = self._storage\n",
    "        indices = np.random.randint(len(storage), size=batch_size)\n",
    "        batch = [[storage[i][j] for i in indices] for j in range(5)]\n",
    "        states, actions, rewards, next_states, is_done = (np.stack(batch[i], axis = 0) for i in range(5))\n",
    "\n",
    "        return states, actions, rewards, next_states, is_done"
   ]
  },
  {
   "cell_type": "code",
   "execution_count": 12,
   "metadata": {
    "id": "6eQXboR7CBdy"
   },
   "outputs": [],
   "source": [
    "exp_replay = ReplayBuffer(10)\n",
    "\n",
    "for _ in range(30):\n",
    "    exp_replay.add(env.reset(), env.action_space.sample(), 1.0, env.reset(), done=False)\n",
    "\n",
    "obs_batch, act_batch, reward_batch, next_obs_batch, is_done_batch = exp_replay.sample(5)\n",
    "\n",
    "assert (len(exp_replay) == 10), \"размер буфера должен быть равен 10, потому что это максимальная вместимость\""
   ]
  },
  {
   "cell_type": "code",
   "execution_count": 13,
   "metadata": {
    "id": "7bTe4jKdCBdy"
   },
   "outputs": [],
   "source": [
    "def play_and_record(initial_state, agent, env, exp_replay, n_steps=1):\n",
    "    \"\"\"\n",
    "    Сыграть в игру n_steps шагов, записать каждый (s,a,r,s', done) в exp_replay буфер.\n",
    "    Как только игра заканчивается, добавляется запись с done=True и среда env перезапускается.\n",
    "    Гарантируетcя, что env находится в состоянии done=False после работы функции.\n",
    "\n",
    "    ПРОСЬБА НЕ ПЕРЕЗАПУСКАТЬ ENV, ПОКА ОНА НЕ В СОСТОЯНИИ \"DONE\"\n",
    "\n",
    "    :возвращает: сумму наград по времени и состояние, в котором среда оказалась\n",
    "    \"\"\"\n",
    "    s = initial_state\n",
    "    sum_rewards = 0\n",
    "\n",
    "    for _ in range(n_steps):\n",
    "        qvalues = agent.get_qvalues([s])\n",
    "        action = agent.sample_actions(qvalues)[0]\n",
    "        s_new, r, done, info, _ = env.step(action)\n",
    "        sum_rewards += r\n",
    "        exp_replay.add(s, action, r, s_new, done)\n",
    "        s = s_new\n",
    "        if done:\n",
    "            s = env.reset()\n",
    "\n",
    "    return sum_rewards, s"
   ]
  },
  {
   "cell_type": "code",
   "execution_count": 14,
   "metadata": {
    "colab": {
     "base_uri": "https://localhost:8080/"
    },
    "id": "h-IeKPazCBdz",
    "outputId": "c54fa842-794a-4845-d8dc-fddc2f7dddb5"
   },
   "outputs": [
    {
     "name": "stdout",
     "output_type": "stream",
     "text": [
      "Отлично справились!\n"
     ]
    }
   ],
   "source": [
    "# Протестируйте Ваш код.\n",
    "exp_replay = ReplayBuffer(2000)\n",
    "\n",
    "state = env.reset()\n",
    "play_and_record(state, agent, env, exp_replay, n_steps=1000)\n",
    "\n",
    "assert len(exp_replay) == 1000, (\n",
    "    \"play_and_record должна добавить ровно 1000 шагов, \"\n",
    "    \"но вместо этого добавила %i\" % len(exp_replay)\n",
    ")\n",
    "is_dones = list(zip(*exp_replay._storage))[-1]\n",
    "\n",
    "assert 0 < np.mean(is_dones) < 0.1, (\n",
    "    \"Убедитесь, что Вы перезапускаете игру, как только она 'done', и корректно записываете is_done в буфер.\"\n",
    "    \"Получена %f доля is_done за %i шагов. [Если думаете, что Вам не повезло, то просто перезапустите тест.]\"\n",
    "    % (np.mean(is_dones), len(exp_replay))\n",
    ")\n",
    "\n",
    "for _ in range(100):\n",
    "    (\n",
    "        obs_batch,\n",
    "        act_batch,\n",
    "        reward_batch,\n",
    "        next_obs_batch,\n",
    "        is_done_batch,\n",
    "    ) = exp_replay.sample(10)\n",
    "    assert obs_batch.shape == next_obs_batch.shape == (10,) + state_shape\n",
    "    assert act_batch.shape == (10,), \"батч действий должен иметь размер (10,), но имееет %s\" % str(act_batch.shape)\n",
    "    assert reward_batch.shape == (10,), \"батч наград должен иметь размер (10,), но имееет %s\" % str(reward_batch.shape)\n",
    "    assert is_done_batch.shape == (10,), \"батч is_done должен иметь размер (10,), но имееет %s\" % str(is_done_batch.shape)\n",
    "    assert [int(i) in (0, 1) for i in is_dones], \"is_done должен быть строго True или False\"\n",
    "    assert [0 <= a < n_actions for a in act_batch], \"действия должны быть в промежутке [0, n_actions]\"\n",
    "\n",
    "print(\"Отлично справились!\")"
   ]
  },
  {
   "cell_type": "markdown",
   "metadata": {
    "id": "zFxGOfv1CBdz"
   },
   "source": [
    "# Целевые сети\n",
    "\n",
    "Также будет реализована так называемая \"целевая сеть\" &mdash; копия весов нейронной сети агента, используемая для оценки целевого значения Q-функции:\n",
    "\n",
    "Сама по себе сеть представляет собой точную копию сети агента, но её параметры не обучаются. Наоборот, они берутся из обучаемой сети агента раз в несколько итераций цикла обучения.\n",
    "\n",
    "$$ Q_{reference}(s,a) = r + \\gamma \\cdot \\max _{a'} Q_{target}(s',a') $$\n",
    "\n",
    "<img src=https://github.com/yandexdataschool/Practical_RL/raw/master/yet_another_week/_resource/target_net.png width=480>"
   ]
  },
  {
   "cell_type": "code",
   "execution_count": 15,
   "metadata": {
    "colab": {
     "base_uri": "https://localhost:8080/"
    },
    "id": "isUJqpzxCBd0",
    "outputId": "d9444db6-6b18-4ad8-843f-6f157c30878c"
   },
   "outputs": [
    {
     "data": {
      "text/plain": [
       "<All keys matched successfully>"
      ]
     },
     "execution_count": 15,
     "metadata": {},
     "output_type": "execute_result"
    }
   ],
   "source": [
    "target_network = DQNAgent(agent.state_shape, agent.n_actions, epsilon=0.5).to(device)\n",
    "# Так можно загружать веса из агента в целевую сеть\n",
    "target_network.load_state_dict(agent.state_dict())"
   ]
  },
  {
   "cell_type": "markdown",
   "metadata": {
    "id": "fzUhsNohCBd1"
   },
   "source": [
    "# Обучение с помощью... Q-обучения\n",
    "Тут будет реализована функция, похожая на `agent.update` из табличного Q-обучения."
   ]
  },
  {
   "cell_type": "markdown",
   "metadata": {
    "id": "UiAmh4TvCBd1"
   },
   "source": [
    "Вычислить TD ошибку Q-обучения:\n",
    "\n",
    "$$ L = { 1 \\over N} \\sum_i [ Q_{\\theta}(s,a) - Q_{reference}(s,a) ] ^2 $$\n",
    "\n",
    "С $Q_{reference}$, определённой как:\n",
    "\n",
    "$$ Q_{reference}(s,a) = r(s,a) + \\gamma \\cdot max_{a'} Q_{target}(s', a') $$\n",
    "\n",
    "Где\n",
    "* $Q_{target}(s',a')$ обозначает Q-ценность следующего состояния и следующего действия, предсказанного с помощью __target_network__\n",
    "* $s, a, r, s'$ суть текущие состояние, действие, награда и следующее состояние соответственно\n",
    "* $\\gamma$ фактор дисконта, определённый двумя блоками выше.\n",
    "\n",
    "\n",
    "__Замечание 1:__ ниже представлен пример входных данных. Не бойтесь с ним экспериментировать, прежде чем написать непосредственно функцию.\n",
    "\n",
    "__Замечание 2:__ compute_td_loss есть источник приблизительно 99% ошибок в данной домашней работе. Если награда не увеличивается, то часто в подобных случаях помогает построчная отладка с помощью [резиновой утки](https://rubberduckdebugging.com/)."
   ]
  },
  {
   "cell_type": "code",
   "execution_count": 16,
   "metadata": {
    "id": "8izQtaFyCBd2"
   },
   "outputs": [],
   "source": [
    "def compute_td_loss(states, actions, rewards, next_states, is_done,\n",
    "                    agent, target_network,\n",
    "                    gamma=0.99,\n",
    "                    check_shapes=False,\n",
    "                    device=device):\n",
    "\n",
    "    \"\"\"\n",
    "    Вычислите td функцию потерь, используя только операции PyTorch. Используйте формулы выше.\n",
    "    \"\"\"\n",
    "\n",
    "    states = torch.tensor(states, device=device, dtype=torch.float)           # размер: [batch_size, *state_shape]\n",
    "    actions = torch.tensor(actions, device=device, dtype=torch.long)          # размер: [batch_size]\n",
    "    rewards = torch.tensor(rewards, device=device, dtype=torch.float)         # размер: [batch_size]\n",
    "    next_states = torch.tensor(next_states, device=device, dtype=torch.float) # размер: [batch_size, *state_shape]\n",
    "\n",
    "    is_done = torch.tensor(\n",
    "        is_done.astype('float32'),\n",
    "        device=device,\n",
    "        dtype=torch.float\n",
    "    )  # размер: [batch_size]\n",
    "    is_not_done = 1 - is_done\n",
    "\n",
    "    predicted_qvalues = agent(states)\n",
    "    predicted_next_qvalues = target_network(next_states)\n",
    "\n",
    "    predicted_qvalues_for_actions = predicted_qvalues[range(len(actions)), actions]\n",
    "    next_state_values = torch.max(predicted_next_qvalues, dim=1)[0]\n",
    "\n",
    "    assert next_state_values.dim() == 1 and next_state_values.shape[0] == states.shape[0], \"нужно предсказывать одно действие для состояния\"\n",
    "\n",
    "    target_qvalues_for_actions = rewards + gamma * next_state_values * is_not_done\n",
    "\n",
    "    assert predicted_qvalues_for_actions.shape == target_qvalues_for_actions.shape\n",
    "\n",
    "    loss = torch.mean((predicted_qvalues_for_actions - target_qvalues_for_actions.detach()) ** 2)\n",
    "\n",
    "    if check_shapes:\n",
    "        assert predicted_next_qvalues.data.dim() == 2, \"убедитесь, что Вы предсказали все q-values для всех действий в следующих состояниях\"\n",
    "        assert next_state_values.data.dim() == 1, \"убедитесь, что Вы вычислили V(s') как максимум по оси действий в тензоре, а не по всем осям\"\n",
    "        assert target_qvalues_for_actions.data.dim() == 1, \"что-то не то с целевыми q-values, они должны быть вектором\"\n",
    "\n",
    "    return loss"
   ]
  },
  {
   "cell_type": "markdown",
   "metadata": {
    "id": "VztVP6gaCBd2"
   },
   "source": [
    "Проверка корректности реализации"
   ]
  },
  {
   "cell_type": "code",
   "execution_count": 17,
   "metadata": {
    "id": "nMAwhws4CBd3"
   },
   "outputs": [],
   "source": [
    "obs_batch, act_batch, reward_batch, next_obs_batch, is_done_batch = exp_replay.sample(10)\n",
    "\n",
    "loss = compute_td_loss(\n",
    "    obs_batch,\n",
    "    act_batch,\n",
    "    reward_batch,\n",
    "    next_obs_batch,\n",
    "    is_done_batch,\n",
    "    agent,\n",
    "    target_network,\n",
    "    gamma=0.99,\n",
    "    check_shapes=True,\n",
    ")\n",
    "loss.backward()\n",
    "\n",
    "assert (loss.requires_grad and tuple(loss.data.size()) == ()), \"Вы должны вернуть скаляр значения функции потерь - среднее по батчу.\"\n",
    "assert np.any(next(agent.parameters()).grad.data.cpu().numpy() != 0), \"Функция потерь должна быть дифференцируема относительно весов сети.\"\n",
    "assert np.all(next(target_network.parameters()).grad is None), \"Целевая сеть не должна быть дифференцируемой.\""
   ]
  },
  {
   "cell_type": "markdown",
   "metadata": {
    "id": "WR-uwxYYCBd3"
   },
   "source": [
    "# Основной цикл\n",
    "\n",
    "Время собрать всё вместе и посмотреть, обучается ли что-нибудь."
   ]
  },
  {
   "cell_type": "code",
   "execution_count": 18,
   "metadata": {
    "colab": {
     "base_uri": "https://localhost:8080/"
    },
    "id": "6CXJu__BCBd4",
    "outputId": "7c12e210-f098-4bcc-c215-d29cf8567808"
   },
   "outputs": [
    {
     "data": {
      "text/plain": [
       "<torch._C.Generator at 0x7ef556956770>"
      ]
     },
     "execution_count": 18,
     "metadata": {},
     "output_type": "execute_result"
    }
   ],
   "source": [
    "seed = 5678\n",
    "random.seed(seed)\n",
    "np.random.seed(seed)\n",
    "torch.manual_seed(seed)"
   ]
  },
  {
   "cell_type": "code",
   "execution_count": 19,
   "metadata": {
    "colab": {
     "base_uri": "https://localhost:8080/"
    },
    "id": "mFeyaBNvCBd4",
    "outputId": "7211b1d1-f815-493d-9d07-2f93cdcbd5ca"
   },
   "outputs": [
    {
     "data": {
      "text/plain": [
       "<All keys matched successfully>"
      ]
     },
     "execution_count": 19,
     "metadata": {},
     "output_type": "execute_result"
    }
   ],
   "source": [
    "env = make_env(seed)\n",
    "state_dim = env.observation_space.shape\n",
    "n_actions = env.action_space.n\n",
    "state = env.reset()\n",
    "\n",
    "agent = DQNAgent(state_dim, n_actions, epsilon=1).to(device)\n",
    "target_network = DQNAgent(state_dim, n_actions, epsilon=1).to(device)\n",
    "target_network.load_state_dict(agent.state_dict())"
   ]
  },
  {
   "cell_type": "code",
   "execution_count": 20,
   "metadata": {
    "colab": {
     "base_uri": "https://localhost:8080/"
    },
    "id": "uP5jM9IrCBd4",
    "outputId": "96c4d841-3e37-4dea-da12-3ac321d976b6"
   },
   "outputs": [
    {
     "name": "stdout",
     "output_type": "stream",
     "text": [
      "10000\n"
     ]
    }
   ],
   "source": [
    "exp_replay = ReplayBuffer(10**4)\n",
    "for i in range(100):\n",
    "    if not utils.is_enough_ram(min_available_gb=0.1):\n",
    "        print(\n",
    "            \"\"\"\n",
    "            Меньше, чем 100 Mb RAM, доступно.\n",
    "            Убедитесь, что размер буфера не слишком большой.\n",
    "            Также проверьте, может, другие процессы потребляют сильно много RAM.\n",
    "            \"\"\"\n",
    "        )\n",
    "        break\n",
    "    play_and_record(state, agent, env, exp_replay, n_steps=10**2)\n",
    "    if len(exp_replay) == 10**4:\n",
    "        break\n",
    "print(len(exp_replay))"
   ]
  },
  {
   "cell_type": "code",
   "execution_count": 21,
   "metadata": {
    "id": "atpVpoymCBd5"
   },
   "outputs": [],
   "source": [
    "timesteps_per_epoch = 100\n",
    "batch_size = 42\n",
    "total_steps = 3 * 10**4\n",
    "decay_steps = 1 * 10**4\n",
    "\n",
    "opt = torch.optim.RMSprop(agent.parameters(), lr=1e-3)\n",
    "opt.zero_grad()\n",
    "\n",
    "init_epsilon = 1\n",
    "final_epsilon = 0.1\n",
    "\n",
    "loss_freq = 20\n",
    "refresh_target_network_freq = 100\n",
    "eval_freq = 1000\n",
    "\n",
    "max_grad_norm = 10\n",
    "gamma = 0.99"
   ]
  },
  {
   "cell_type": "code",
   "execution_count": 22,
   "metadata": {
    "id": "NsMTC-MFCBd5"
   },
   "outputs": [],
   "source": [
    "mean_rw_history = []\n",
    "td_loss_history = []\n",
    "grad_norm_history = []\n",
    "initial_state_v_history = []"
   ]
  },
  {
   "cell_type": "code",
   "execution_count": 23,
   "metadata": {
    "colab": {
     "base_uri": "https://localhost:8080/",
     "height": 793
    },
    "id": "qg1lD_cuCBd5",
    "outputId": "ba33a010-f7f9-445a-d523-6c97ea298ae9"
   },
   "outputs": [
    {
     "data": {
      "image/png": "[encoded data removed]",
      "text/plain": [
       "<Figure size 1600x900 with 4 Axes>"
      ]
     },
     "metadata": {},
     "output_type": "display_data"
    },
    {
     "name": "stderr",
     "output_type": "stream",
     "text": [
      "\r",
      "100%|██████████| 30001/30001 [15:38<00:00, 31.96it/s]\n"
     ]
    }
   ],
   "source": [
    "state = env.reset()\n",
    "for step in trange(total_steps + 1):\n",
    "    if not utils.is_enough_ram():\n",
    "        print('Меньше, чем 100 Mb RAM, доступно, заморозка процедуры обучения')\n",
    "        print('убедитесь, что всё в порядке и пошлите сигнал KeyboardInterrupt для продолжения')\n",
    "        try:\n",
    "            while True:\n",
    "                pass\n",
    "        except KeyboardInterrupt:\n",
    "            pass\n",
    "\n",
    "    agent.epsilon = utils.linear_decay(init_epsilon, final_epsilon, step, decay_steps)\n",
    "\n",
    "    _, state = play_and_record(state, agent, env, exp_replay, timesteps_per_epoch)\n",
    "    states, actions, rewards, next_states, is_done = exp_replay.sample(batch_size)\n",
    "    loss = compute_td_loss(states, actions, rewards, next_states, is_done, agent, target_network, gamma)\n",
    "\n",
    "    loss.backward()\n",
    "    grad_norm = nn.utils.clip_grad_norm_(agent.parameters(), max_grad_norm).item()\n",
    "    opt.step()\n",
    "    opt.zero_grad()\n",
    "\n",
    "    if step % loss_freq == 0:\n",
    "        td_loss_history.append(loss.data.cpu().item())\n",
    "        grad_norm_history.append(grad_norm)\n",
    "\n",
    "    if step % refresh_target_network_freq == 0:\n",
    "        # Загрузка весов агента в target_network\n",
    "        target_network.load_state_dict(agent.state_dict())\n",
    "\n",
    "    if step % eval_freq == 0:\n",
    "        # Оценка агента\n",
    "        mean_rw_history.append(evaluate(make_env(seed=step), agent, n_games=3, greedy=True, t_max=1000))\n",
    "        initial_state_q_values = agent.get_qvalues([make_env(seed=step).reset()])\n",
    "        initial_state_v_history.append(np.max(initial_state_q_values))\n",
    "\n",
    "        print(\"размер буфера = %i, epsilon = %.5f\" %\n",
    "              (len(exp_replay), agent.epsilon))\n",
    "\n",
    "        plt.figure(figsize=[16, 9])\n",
    "        plt.subplot(2, 2, 1)\n",
    "        plt.title(\"Средняя награда за эпизод\")\n",
    "        plt.plot(mean_rw_history)\n",
    "        plt.grid()\n",
    "\n",
    "        assert not np.isnan(td_loss_history[-1])\n",
    "        plt.subplot(2, 2, 2)\n",
    "        plt.title(\"История TD функции потерь (сглаженная)\")\n",
    "        plt.plot(utils.smoothen(td_loss_history))\n",
    "        plt.grid()\n",
    "\n",
    "        plt.subplot(2, 2, 3)\n",
    "        plt.title(\"Ценность начального состояния\")\n",
    "        plt.plot(initial_state_v_history)\n",
    "        plt.grid()\n",
    "\n",
    "        plt.subplot(2, 2, 4)\n",
    "        plt.title(\"История нормы градиента (сглаженная)\")\n",
    "        plt.plot(utils.smoothen(grad_norm_history))\n",
    "        plt.grid()\n",
    "\n",
    "        clear_output(True)\n",
    "        plt.show()"
   ]
  },
  {
   "cell_type": "code",
   "execution_count": 24,
   "metadata": {
    "colab": {
     "base_uri": "https://localhost:8080/"
    },
    "id": "5vlR_9VXCBd6",
    "outputId": "6a4ec9b2-8e8f-4c47-cf30-896b3b48d51f"
   },
   "outputs": [
    {
     "name": "stdout",
     "output_type": "stream",
     "text": [
      "финальный счёт: 1000.0\n",
      "Отлично справились\n"
     ]
    }
   ],
   "source": [
    "final_score = evaluate(make_env(), agent, n_games=30, greedy=True, t_max=1000)\n",
    "print(\"финальный счёт:\", final_score)\n",
    "assert final_score > 300, \"недостаточно хорошо для DQN\"\n",
    "print(\"Отлично справились\")"
   ]
  },
  {
   "cell_type": "markdown",
   "metadata": {
    "id": "vOrvLadoCBd6"
   },
   "source": [
    "# Запись видео"
   ]
  },
  {
   "cell_type": "markdown",
   "metadata": {
    "id": "e8W8ZbLHCBd6"
   },
   "source": [
    "### Код записи видео (Спасибо Никите Киселёву)"
   ]
  },
  {
   "cell_type": "code",
   "execution_count": 27,
   "metadata": {
    "id": "IETq86sRCBd7"
   },
   "outputs": [],
   "source": [
    "def evaluate_video(env, agent, greedy=False, t_max=10000):\n",
    "    \"\"\"Играет n_games полных эпизодов. Если greedy=True, то действия берутся из детерминированной\n",
    "    стратегии как argmax(qvalues). Возвращает среднюю награду.\"\"\"\n",
    "    # Создание объекта RecordVideo\n",
    "    name_prefix = \"non-greedy\" if greedy == False else \"greedy\"\n",
    "    record_video = RecordVideo(env, \"CartPole-v1/videos\", name_prefix=name_prefix)\n",
    "    s = record_video.reset()\n",
    "    reward = 0\n",
    "    for _ in range(t_max):\n",
    "        record_video.render('rgb_array')\n",
    "        qvalues = agent.get_qvalues([s])\n",
    "        action = (\n",
    "            qvalues.argmax(axis=-1)[0]\n",
    "            if greedy\n",
    "            else agent.sample_actions(qvalues)[0]\n",
    "        )\n",
    "        s, r, done, info = record_video.step(action)\n",
    "        reward += r\n",
    "        if done:\n",
    "            break\n",
    "    record_video.close()\n",
    "    return reward\n"
   ]
  },
  {
   "cell_type": "code",
   "execution_count": 28,
   "metadata": {
    "colab": {
     "base_uri": "https://localhost:8080/"
    },
    "id": "XLO9QwRdCBd7",
    "outputId": "a79f5d4b-50f7-4221-b0e0-66ffe8806ad2"
   },
   "outputs": [
    {
     "data": {
      "text/plain": [
       "500.0"
      ]
     },
     "execution_count": 28,
     "metadata": {},
     "output_type": "execute_result"
    }
   ],
   "source": [
    "# Environment\n",
    "env = gym.make('CartPole-v1')\n",
    "\n",
    "# Creating a video\n",
    "evaluate_video(env, agent)"
   ]
  },
  {
   "cell_type": "code",
   "execution_count": 29,
   "metadata": {
    "colab": {
     "base_uri": "https://localhost:8080/",
     "height": 448
    },
    "id": "JYyt-aKOCBd7",
    "outputId": "d090b10e-7e44-428c-c8cd-54fd11f7c703"
   },
   "outputs": [
    {
     "data": {
      "text/html": [
       "\n",
       "<video width=640 heigh=480 controls>\n",
       "      <source src=\"data:video/mp4;base64,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\" type=\"video/mp4\">\n",
       "</video>\n"
      ],
      "text/plain": [
       "<IPython.core.display.HTML object>"
      ]
     },
     "execution_count": 29,
     "metadata": {},
     "output_type": "execute_result"
    }
   ],
   "source": [
    "# Input video path\n",
    "save_path = \"CartPole-v1/videos/non-greedy-episode-0.mp4\"\n",
    "\n",
    "# Compressed video path\n",
    "compressed_path = \"CartPole-v1/videos/non-greedy_compressed.mp4\"\n",
    "\n",
    "# Play video\n",
    "os.system(f\"ffmpeg -i {save_path} -vcodec libx264 {compressed_path}\")\n",
    "\n",
    "# Show video\n",
    "mp4 = open(compressed_path,'rb').read()\n",
    "data_url = \"data:video/mp4;base64,\" + b64encode(mp4).decode()\n",
    "HTML(\"\"\"\n",
    "<video width=640 heigh=480 controls>\n",
    "      <source src=\"%s\" type=\"video/mp4\">\n",
    "</video>\n",
    "\"\"\" % data_url)"
   ]
  }
 ],
 "metadata": {
  "colab": {
   "provenance": []
  },
  "kernelspec": {
   "display_name": "Python 3 (ipykernel)",
   "language": "python",
   "name": "python3"
  },
  "language_info": {
   "codemirror_mode": {
    "name": "ipython",
    "version": 3
   },
   "file_extension": ".py",
   "mimetype": "text/x-python",
   "name": "python",
   "nbconvert_exporter": "python",
   "pygments_lexer": "ipython3",
   "version": "3.11.5"
  },
  "vscode": {
   "interpreter": {
    "hash": "f92b2924b84ff19c1c3dc485f7644d4486f64738191026bf8e6de303969141b5"
   }
  }
 },
 "nbformat": 4,
 "nbformat_minor": 1
}
